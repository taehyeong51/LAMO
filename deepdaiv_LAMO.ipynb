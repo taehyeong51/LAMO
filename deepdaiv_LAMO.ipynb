{
  "cells": [
    {
      "cell_type": "markdown",
      "metadata": {
        "id": "view-in-github",
        "colab_type": "text"
      },
      "source": [
        "<a href=\"https://colab.research.google.com/github/taehyeong51/LAMO/blob/main/deepdaiv_LAMO.ipynb\" target=\"_parent\"><img src=\"https://colab.research.google.com/assets/colab-badge.svg\" alt=\"Open In Colab\"/></a>"
      ]
    },
    {
      "cell_type": "markdown",
      "metadata": {
        "id": "M1q5RTx3AXF6"
      },
      "source": [
        "# **당신의 더욱 완벽한 추억을 위해**\n",
        "\n",
        "Mask2Former(MMDetection) : https://github.com/open-mmlab/mmdetection.git\n",
        "\n",
        "Lama : https://github.com/saic-mdal/lama\n",
        "\n",
        "<img src = \"https://drive.google.com/uc?id=1AsWI5RN66aQEprOnNQj_ryV27-YS8NNJ\" height = 300 width = 1000>\n",
        "\n",
        "이미지 내 불필요한 인물 객체를 제거하여 당신이 원하는 더욱 완벽한 사진을 생성할 수 있습니다.\n",
        "\n",
        "[MMDetection](https://github.com/open-mmlab/mmdetection.git) 기반의 [Mask2Former](https://github.com/open-mmlab/mmdetection/tree/master/configs/mask2former)를 기반으로 인물을 탐지하여 mask를 생성하고 [LaMa](https://github.com/saic-mdal/lama) 를 기반으로 mask 영역의 이미지를 새롭게 생성하였습니다.\n",
        "\n",
        "\n"
      ]
    },
}
